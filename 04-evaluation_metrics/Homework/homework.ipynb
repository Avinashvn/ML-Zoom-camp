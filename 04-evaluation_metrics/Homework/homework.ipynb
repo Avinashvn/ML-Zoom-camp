{
 "cells": [
  {
   "cell_type": "markdown",
   "id": "976388ad-0005-4dec-886f-c0331b91572c",
   "metadata": {},
   "source": [
    "## Homework - CH 04"
   ]
  },
  {
   "cell_type": "code",
   "execution_count": 1,
   "id": "ac6d9b23-b61a-4a25-aa7d-d667e6cdb50a",
   "metadata": {},
   "outputs": [],
   "source": [
    "import pandas as pd\n",
    "import numpy as np"
   ]
  },
  {
   "cell_type": "code",
   "execution_count": 2,
   "id": "5a31f781-47f2-438f-9a61-0152e8e12792",
   "metadata": {},
   "outputs": [],
   "source": [
    "from sklearn.model_selection import train_test_split\n",
    "from sklearn.feature_extraction import DictVectorizer\n",
    "from sklearn.linear_model import LogisticRegression"
   ]
  },
  {
   "cell_type": "code",
   "execution_count": 3,
   "id": "1b9f8b10-3b47-44ce-8ed1-c355bd5357d9",
   "metadata": {},
   "outputs": [],
   "source": [
    "df = pd.read_csv('data.csv')"
   ]
  },
  {
   "cell_type": "code",
   "execution_count": 4,
   "id": "5cb66c25-96fd-45be-8621-d79a23456e28",
   "metadata": {},
   "outputs": [
    {
     "data": {
      "text/plain": [
       "Index(['lead_source', 'industry', 'number_of_courses_viewed', 'annual_income',\n",
       "       'employment_status', 'location', 'interaction_count', 'lead_score',\n",
       "       'converted'],\n",
       "      dtype='object')"
      ]
     },
     "execution_count": 4,
     "metadata": {},
     "output_type": "execute_result"
    }
   ],
   "source": [
    "df.columns"
   ]
  },
  {
   "cell_type": "code",
   "execution_count": 5,
   "id": "8d9ce647-5560-476f-8562-592901b5696d",
   "metadata": {},
   "outputs": [
    {
     "data": {
      "text/plain": [
       "lead_source                 128\n",
       "industry                    134\n",
       "number_of_courses_viewed      0\n",
       "annual_income               181\n",
       "employment_status           100\n",
       "location                     63\n",
       "interaction_count             0\n",
       "lead_score                    0\n",
       "converted                     0\n",
       "dtype: int64"
      ]
     },
     "execution_count": 5,
     "metadata": {},
     "output_type": "execute_result"
    }
   ],
   "source": [
    "df.isnull().sum()"
   ]
  },
  {
   "cell_type": "code",
   "execution_count": 6,
   "id": "1be3e2cf-2924-4b6e-9acc-fc3b1dcc46b4",
   "metadata": {},
   "outputs": [
    {
     "data": {
      "text/plain": [
       "lead_source                  object\n",
       "industry                     object\n",
       "number_of_courses_viewed      int64\n",
       "annual_income               float64\n",
       "employment_status            object\n",
       "location                     object\n",
       "interaction_count             int64\n",
       "lead_score                  float64\n",
       "converted                     int64\n",
       "dtype: object"
      ]
     },
     "execution_count": 6,
     "metadata": {},
     "output_type": "execute_result"
    }
   ],
   "source": [
    "df.dtypes"
   ]
  },
  {
   "cell_type": "code",
   "execution_count": 7,
   "id": "369ec564-c626-43d3-b6f2-8ac043cd5993",
   "metadata": {},
   "outputs": [],
   "source": [
    "def fill_missing_values(df):\n",
    "    numerical = df.select_dtypes(include=['number']).columns\n",
    "    df[numerical] = df[numerical].fillna(0)\n",
    "\n",
    "    categorical = df.select_dtypes(include=['object', 'category']).columns\n",
    "    df[categorical] = df[categorical].fillna('NA')\n",
    "    \n",
    "    return df"
   ]
  },
  {
   "cell_type": "code",
   "execution_count": 8,
   "id": "1dff682e-e822-439e-8170-eee087eb55c0",
   "metadata": {},
   "outputs": [],
   "source": [
    "df = fill_missing_values(df)"
   ]
  },
  {
   "cell_type": "code",
   "execution_count": 9,
   "id": "a4ef5551-47f0-4e34-a131-61123ce6d5d0",
   "metadata": {},
   "outputs": [
    {
     "data": {
      "text/plain": [
       "lead_source                 0\n",
       "industry                    0\n",
       "number_of_courses_viewed    0\n",
       "annual_income               0\n",
       "employment_status           0\n",
       "location                    0\n",
       "interaction_count           0\n",
       "lead_score                  0\n",
       "converted                   0\n",
       "dtype: int64"
      ]
     },
     "execution_count": 9,
     "metadata": {},
     "output_type": "execute_result"
    }
   ],
   "source": [
    "df.isnull().sum()"
   ]
  },
  {
   "cell_type": "code",
   "execution_count": 38,
   "id": "2486b092-aeea-44bb-b91c-4ca510e4d2a3",
   "metadata": {},
   "outputs": [],
   "source": [
    "df_full_train, df_test = train_test_split(df, test_size = 0.2, random_state = 1)\n",
    "df_train, df_val = train_test_split(df_full_train, test_size = 0.25, random_state = 1)"
   ]
  },
  {
   "cell_type": "code",
   "execution_count": 39,
   "id": "5c438571-7b06-4413-b3d5-4acaa94469a7",
   "metadata": {},
   "outputs": [],
   "source": [
    "y_train = df_train.converted.values\n",
    "y_val = df_val.converted.values\n",
    "\n",
    "del df_train['converted']\n",
    "del df_val['converted']"
   ]
  },
  {
   "cell_type": "code",
   "execution_count": 40,
   "id": "dfdbc237-fea2-475f-a6c0-b7f567a0dcd3",
   "metadata": {},
   "outputs": [],
   "source": [
    "categorical = ['lead_source', 'industry', 'employment_status', 'location']\n",
    "\n",
    "numerical = ['number_of_courses_viewed', 'annual_income', 'interaction_count', 'lead_score']\n",
    "\n",
    "target = 'converted'"
   ]
  },
  {
   "cell_type": "markdown",
   "id": "1aeefec4-a04a-4634-a351-8d35765f7e25",
   "metadata": {},
   "source": [
    "### Question 1"
   ]
  },
  {
   "cell_type": "markdown",
   "id": "5d977002-0ee5-4056-83c6-8c3203da8423",
   "metadata": {},
   "source": [
    "ROC AUC could also be used to evaluate feature importance of numerical variables.<br>\n",
    "\n",
    "Let's do that<br>\n",
    "\n",
    "For each numerical variable, use it as score (aka prediction) and compute the AUC with the y variable as ground truth.<br>\n",
    "Use the training dataset for that<br>\n",
    "If your AUC is < 0.5, invert this variable by putting \"-\" in front<br>\n",
    "\n",
    "(e.g. -df_train['balance'])<br>\n",
    "\n",
    "AUC can go below 0.5 if the variable is negatively correlated with the target variable. You can change the direction of the correlation by negating this variable - then negative correlation becomes positive.<br>\n",
    "\n",
    "Which numerical variable (among the following 4) has the highest AUC?<br>\n",
    "\n",
    "lead_score<br>\n",
    "number_of_courses_viewed<br>\n",
    "interaction_count<br>\n",
    "annual_income<br>"
   ]
  },
  {
   "cell_type": "code",
   "execution_count": 25,
   "id": "247d6dde-8e13-4002-b1f5-8fcb43c40f79",
   "metadata": {},
   "outputs": [
    {
     "name": "stdout",
     "output_type": "stream",
     "text": [
      "number_of_courses_viewed: 0.764\n",
      "annual_income: 0.552\n",
      "interaction_count: 0.738\n",
      "lead_score: 0.614\n"
     ]
    }
   ],
   "source": [
    "from sklearn.metrics import roc_auc_score\n",
    "\n",
    "for col in numerical:\n",
    "    auc = roc_auc_score(y_train, df_train[col])\n",
    "    print(f\"{col}: {auc:.3f}\")\n"
   ]
  },
  {
   "cell_type": "markdown",
   "id": "09a61b33-a215-4452-9251-9f2305696668",
   "metadata": {},
   "source": [
    "#### Answer : number_of_courses_viewed"
   ]
  },
  {
   "cell_type": "markdown",
   "id": "974b7858-00da-4e39-bc4b-2edc106dbf5d",
   "metadata": {},
   "source": [
    "### Question 2"
   ]
  },
  {
   "cell_type": "markdown",
   "id": "f25591d2-e57e-41c1-aa50-8e4d011229ec",
   "metadata": {},
   "source": [
    "Apply one-hot-encoding using DictVectorizer and train the logistic regression with these parameters:\n",
    "\n",
    "LogisticRegression(solver='liblinear', C=1.0, max_iter=1000)<br>\n",
    "What's the AUC of this model on the validation dataset? (round to 3 digits)\n",
    "\n",
    "0.32<br>\n",
    "0.52<br>\n",
    "0.72<br>\n",
    "0.92"
   ]
  },
  {
   "cell_type": "code",
   "execution_count": 26,
   "id": "e0e85e97-629d-4f99-a8c4-3ee9391b9bf4",
   "metadata": {},
   "outputs": [],
   "source": [
    "train_dict = df_train[categorical + numerical].to_dict(orient='records')\n",
    "dv = DictVectorizer(sparse=False)\n",
    "dv.fit(train_dict)\n",
    "X_train = dv.transform(train_dict)\n",
    "\n",
    "model = LogisticRegression(solver='liblinear', C=1.0, max_iter=1000)\n",
    "model.fit(X_train, y_train)\n",
    "\n",
    "val_dict = df_val[categorical + numerical].to_dict(orient='records')\n",
    "X_val = dv.transform(val_dict)\n",
    "y_pred = model.predict_proba(X_val)[:, 1]"
   ]
  },
  {
   "cell_type": "code",
   "execution_count": 27,
   "id": "3390ff4f-64b7-446e-a65e-57d8e84abb6a",
   "metadata": {},
   "outputs": [],
   "source": [
    "from sklearn.metrics import roc_curve\n",
    " \n",
    "fpr, tpr, thresholds = roc_curve(y_val, y_pred)"
   ]
  },
  {
   "cell_type": "code",
   "execution_count": 28,
   "id": "283b8728-aa48-48c4-a170-81830681e782",
   "metadata": {},
   "outputs": [
    {
     "name": "stdout",
     "output_type": "stream",
     "text": [
      "AUC: 0.817\n"
     ]
    }
   ],
   "source": [
    "from sklearn.metrics import roc_auc_score\n",
    "auc = roc_auc_score(y_val, y_pred)\n",
    "print(f\"AUC: {auc:.3f}\")"
   ]
  },
  {
   "cell_type": "markdown",
   "id": "63563261-dc65-48eb-ae93-afb80093bf7d",
   "metadata": {},
   "source": [
    "#### Answer : 0.72"
   ]
  },
  {
   "cell_type": "markdown",
   "id": "c55c8ea1-e0f8-43e6-ba19-6c8874286fa9",
   "metadata": {},
   "source": [
    "### Question 3 "
   ]
  },
  {
   "cell_type": "markdown",
   "id": "7e83818b-8b37-44c2-9547-61ed06fb3957",
   "metadata": {},
   "source": [
    "Now let's compute precision and recall for our model.\n",
    "\n",
    "Evaluate the model on all thresholds from 0.0 to 1.0 with step 0.01<br>\n",
    "For each threshold, compute precision and recall<br>\n",
    "Plot them<br>\n",
    "At which threshold precision and recall curves intersect?<br>\n",
    "\n",
    "0.145<br>\n",
    "0.345<br>\n",
    "0.545<br>\n",
    "0.745"
   ]
  },
  {
   "cell_type": "code",
   "execution_count": 29,
   "id": "5c8667c8-ed2a-48e5-b134-469e90d30b9b",
   "metadata": {},
   "outputs": [
    {
     "name": "stderr",
     "output_type": "stream",
     "text": [
      "/home/codespace/.local/lib/python3.12/site-packages/sklearn/metrics/_classification.py:1706: UndefinedMetricWarning: Precision is ill-defined and being set to 0.0 due to no predicted samples. Use `zero_division` parameter to control this behavior.\n",
      "  _warn_prf(average, modifier, f\"{metric.capitalize()} is\", result.shape[0])\n",
      "/home/codespace/.local/lib/python3.12/site-packages/sklearn/metrics/_classification.py:1706: UndefinedMetricWarning: Precision is ill-defined and being set to 0.0 due to no predicted samples. Use `zero_division` parameter to control this behavior.\n",
      "  _warn_prf(average, modifier, f\"{metric.capitalize()} is\", result.shape[0])\n",
      "/home/codespace/.local/lib/python3.12/site-packages/sklearn/metrics/_classification.py:1706: UndefinedMetricWarning: Precision is ill-defined and being set to 0.0 due to no predicted samples. Use `zero_division` parameter to control this behavior.\n",
      "  _warn_prf(average, modifier, f\"{metric.capitalize()} is\", result.shape[0])\n"
     ]
    }
   ],
   "source": [
    "from sklearn.metrics import precision_score, recall_score\n",
    "\n",
    "thresholds = np.linspace(0, 1, 101)\n",
    "precisions = []\n",
    "recalls = []\n",
    "\n",
    "for t in thresholds:\n",
    "    y_pred_labels = (y_pred >= t)  \n",
    "    p = precision_score(y_val, y_pred_labels)\n",
    "    r = recall_score(y_val, y_pred_labels)\n",
    "    precisions.append(p)\n",
    "    recalls.append(r)\n"
   ]
  },
  {
   "cell_type": "code",
   "execution_count": 30,
   "id": "b1bd662a-e741-4ff4-8192-2d53e1adffdd",
   "metadata": {},
   "outputs": [
    {
     "data": {
      "image/png": "[encoded data removed]",
      "text/plain": [
       "<Figure size 640x480 with 1 Axes>"
      ]
     },
     "metadata": {},
     "output_type": "display_data"
    }
   ],
   "source": [
    "import matplotlib.pyplot as plt\n",
    "\n",
    "plt.plot(thresholds, precisions, label='Precision')\n",
    "plt.plot(thresholds, recalls, label='Recall')\n",
    "plt.xlabel('Threshold')\n",
    "plt.ylabel('Score')\n",
    "plt.legend()\n",
    "plt.grid(True)\n",
    "plt.show()\n"
   ]
  },
  {
   "cell_type": "markdown",
   "id": "fe6ff0f2-3912-4e14-b2cd-d37d596969b0",
   "metadata": {},
   "source": [
    "#### Answer : 0.745"
   ]
  },
  {
   "cell_type": "markdown",
   "id": "5c4e52c4-9ef6-45da-8994-49813dc3ab37",
   "metadata": {},
   "source": [
    "### Question 4"
   ]
  },
  {
   "cell_type": "markdown",
   "id": "57192c80-12c8-4bf1-a11e-99608f5b3ab6",
   "metadata": {},
   "source": [
    "Precision and recall are conflicting - when one grows, the other goes down. That's why they are often combined into the F1 score - a metrics that takes into account both<br>\n",
    "\n",
    "This is the formula for computing F1:<br>\n",
    "       F1 = 2 (P * R / P+ R)<br>\n",
    "\n",
    "Where <br>\n",
    "P is precision and <br>\n",
    "R is recall.<br>\n",
    "\n",
    "Let's compute F1 for all thresholds from 0.0 to 1.0 with increment 0.01<br>\n",
    "\n",
    "At which threshold F1 is maximal?<br>\n",
    "\n",
    "0.14<br>\n",
    "0.34<br>\n",
    "0.54<br>\n",
    "0.74"
   ]
  },
  {
   "cell_type": "code",
   "execution_count": 31,
   "id": "2659d21b-3324-4e8f-ae2a-0fe2efffcb1b",
   "metadata": {},
   "outputs": [
    {
     "name": "stdout",
     "output_type": "stream",
     "text": [
      "Best F1 score: 0.812 at threshold 0.57\n"
     ]
    },
    {
     "name": "stderr",
     "output_type": "stream",
     "text": [
      "/home/codespace/.local/lib/python3.12/site-packages/sklearn/metrics/_classification.py:1706: UndefinedMetricWarning: Precision is ill-defined and being set to 0.0 due to no predicted samples. Use `zero_division` parameter to control this behavior.\n",
      "  _warn_prf(average, modifier, f\"{metric.capitalize()} is\", result.shape[0])\n",
      "/home/codespace/.local/lib/python3.12/site-packages/sklearn/metrics/_classification.py:1706: UndefinedMetricWarning: Precision is ill-defined and being set to 0.0 due to no predicted samples. Use `zero_division` parameter to control this behavior.\n",
      "  _warn_prf(average, modifier, f\"{metric.capitalize()} is\", result.shape[0])\n",
      "/home/codespace/.local/lib/python3.12/site-packages/sklearn/metrics/_classification.py:1706: UndefinedMetricWarning: Precision is ill-defined and being set to 0.0 due to no predicted samples. Use `zero_division` parameter to control this behavior.\n",
      "  _warn_prf(average, modifier, f\"{metric.capitalize()} is\", result.shape[0])\n"
     ]
    }
   ],
   "source": [
    "thresholds = np.arange(0.0, 1.01, 0.01)\n",
    "f1_scores = []\n",
    "\n",
    "for t in thresholds:\n",
    "    y_pred_bin = (y_pred >= t)\n",
    "    p = precision_score(y_val, y_pred_bin)\n",
    "    r = recall_score(y_val, y_pred_bin)\n",
    "    f1 = 2 * (p * r) / (p + r) if (p + r) != 0 else 0\n",
    "    f1_scores.append(f1)\n",
    "\n",
    "best_threshold = thresholds[np.argmax(f1_scores)]\n",
    "print(f\"Best F1 score: {max(f1_scores):.3f} at threshold {best_threshold:.2f}\")\n"
   ]
  },
  {
   "cell_type": "markdown",
   "id": "b71455b3-1ab1-417f-a354-30965620f1b4",
   "metadata": {},
   "source": [
    "#### Answer : 0.54"
   ]
  },
  {
   "cell_type": "markdown",
   "id": "3cf3a60b-6053-433d-a02b-cd653aa0c65c",
   "metadata": {},
   "source": [
    "### Question 5"
   ]
  },
  {
   "cell_type": "markdown",
   "id": "7ad2986d-cfa7-42eb-90e1-016fb7f73b7e",
   "metadata": {},
   "source": [
    "Use the KFold class from Scikit-Learn to evaluate our model on 5 different folds:\n",
    "\n",
    "KFold(n_splits=5, shuffle=True, random_state=1)<br>\n",
    "Iterate over different folds of df_full_train<br>\n",
    "Split the data into train and validation<br>\n",
    "Train the model on train with these parameters: LogisticRegression(solver='liblinear', C=1.0, max_iter=1000)<br>\n",
    "Use AUC to evaluate the model on validation<br>\n",
    "How large is standard deviation of the scores across different folds?<br>\n",
    "\n",
    "0.0001<br>\n",
    "0.006<br>\n",
    "0.06<br>\n",
    "0.36"
   ]
  },
  {
   "cell_type": "code",
   "execution_count": null,
   "id": "11e85b23-e01f-4a1a-89b0-8e7e57b663fc",
   "metadata": {},
   "outputs": [],
   "source": [
    "def train_model(df_train, y_train, C=1.0):\n",
    "    train_dict = df_train.to_dict(orient='records')\n",
    "    dv = DictVectorizer(sparse=False)\n",
    "    X_train = dv.fit_transform(train_dict)\n",
    "    \n",
    "    model = LogisticRegression(solver='liblinear', C=C, max_iter=1000)\n",
    "    model.fit(X_train, y_train)\n",
    "    return dv, model"
   ]
  },
  {
   "cell_type": "code",
   "execution_count": null,
   "id": "aa730e11-c4d0-4fd8-9fb1-0fbf1e5eb97e",
   "metadata": {},
   "outputs": [],
   "source": [
    "def predict_model(df, dv, model):\n",
    "    dicts = df.to_dict(orient='records')\n",
    "    X = dv.transform(dicts)\n",
    "    return model.predict_proba(X)[:, 1]"
   ]
  },
  {
   "cell_type": "code",
   "execution_count": 41,
   "id": "d20e89a5-d227-4675-bfd9-cdda7c1a9fe1",
   "metadata": {},
   "outputs": [
    {
     "name": "stdout",
     "output_type": "stream",
     "text": [
      "Cross-validation scores: ['0.8061', '0.8714', '0.7754', '0.8018', '0.8558']\n",
      "Mean: 0.8221, Std: 0.0358\n"
     ]
    }
   ],
   "source": [
    "from sklearn.model_selection import KFold\n",
    "\n",
    "features = [col for col in df_full_train.columns if col != target]\n",
    "kfold = KFold(n_splits=5, shuffle=True, random_state=1)\n",
    "scores = []\n",
    "\n",
    "for train_idx, val_idx in kfold.split(df_full_train):\n",
    "    df_train_fold = df_full_train.iloc[train_idx]\n",
    "    df_val_fold = df_full_train.iloc[val_idx]\n",
    "    \n",
    "    y_train_fold = df_train_fold[target].values\n",
    "    y_val_fold = df_val_fold[target].values\n",
    "    \n",
    "    dv, model = train_model(df_train_fold[features], y_train_fold)\n",
    "    y_pred_fold = predict_model(df_val_fold[features], dv, model)\n",
    "    \n",
    "    auc = roc_auc_score(y_val_fold, y_pred_fold)\n",
    "    scores.append(auc)\n",
    "\n",
    "print(f\"Cross-validation scores: {[f'{s:.4f}' for s in scores]}\")\n",
    "mean_score = np.mean(scores)\n",
    "std_score = np.std(scores)\n",
    "print(f\"Mean: {mean_score:.4f}, Std: {std_score:.4f}\")"
   ]
  },
  {
   "cell_type": "markdown",
   "id": "a263c44f-a320-4c65-8be8-39977ba45e8a",
   "metadata": {},
   "source": [
    "#### Answer : 0.06"
   ]
  },
  {
   "cell_type": "markdown",
   "id": "d51f281b-022d-4b98-aba7-fa051243bceb",
   "metadata": {},
   "source": [
    "### Question 6"
   ]
  },
  {
   "cell_type": "markdown",
   "id": "ca2ec167-f634-4164-8866-c6530b63dc6a",
   "metadata": {},
   "source": [
    "Now let's use 5-Fold cross-validation to find the best parameter C\n",
    "\n",
    "Iterate over the following C values: [0.000001, 0.001, 1]<br>\n",
    "Initialize KFold with the same parameters as previously<br>\n",
    "Use these parameters for the model: LogisticRegression(solver='liblinear', C=C, max_iter=1000)<br>\n",
    "Compute the mean score as well as the std (round the mean and std to 3 decimal digits)<br>\n",
    "Which C leads to the best mean score?<br>\n",
    "\n",
    "0.000001<br>\n",
    "0.001<br>\n",
    "1<br>\n",
    "\n",
    "If you have ties, select the score with the lowest std. If you still have ties, select the smallest C."
   ]
  },
  {
   "cell_type": "code",
   "execution_count": 42,
   "id": "09faa3b2-305e-49ec-ae26-82398569caf3",
   "metadata": {},
   "outputs": [
    {
     "name": "stdout",
     "output_type": "stream",
     "text": [
      "C=1e-06: Mean AUC = 0.560208, Std = 0.023798\n",
      "C=0.001: Mean AUC = 0.866878, Std = 0.028746\n",
      "C=1: Mean AUC = 0.822109, Std = 0.035807\n"
     ]
    }
   ],
   "source": [
    "C_values = [0.000001, 0.001, 1]\n",
    "results = []\n",
    "\n",
    "for C in C_values:\n",
    "    kfold = KFold(n_splits=5, shuffle=True, random_state=1)\n",
    "    scores = []\n",
    "    \n",
    "    for train_idx, val_idx in kfold.split(df_full_train):\n",
    "        df_train_fold = df_full_train.iloc[train_idx]\n",
    "        df_val_fold = df_full_train.iloc[val_idx]\n",
    "        \n",
    "        y_train_fold = df_train_fold[target].values\n",
    "        y_val_fold = df_val_fold[target].values\n",
    "        \n",
    "        dv, model = train_model(df_train_fold[features], y_train_fold, C=C)\n",
    "        y_pred_fold = predict_model(df_val_fold[features], dv, model)\n",
    "        \n",
    "        auc = roc_auc_score(y_val_fold, y_pred_fold)\n",
    "        scores.append(auc)\n",
    "    \n",
    "    mean_score = np.mean(scores)\n",
    "    std_score = np.std(scores)\n",
    "    results.append((C, mean_score, std_score))\n",
    "    print(f\"C={C}: Mean AUC = {mean_score:.6f}, Std = {std_score:.6f}\")"
   ]
  },
  {
   "cell_type": "markdown",
   "id": "ffcf2ae9-8449-4d36-bac5-58cd07cdb53d",
   "metadata": {},
   "source": [
    "#### Answer : 0.001"
   ]
  }
 ],
 "metadata": {
  "kernelspec": {
   "display_name": "Python 3 (ipykernel)",
   "language": "python",
   "name": "python3"
  },
  "language_info": {
   "codemirror_mode": {
    "name": "ipython",
    "version": 3
   },
   "file_extension": ".py",
   "mimetype": "text/x-python",
   "name": "python",
   "nbconvert_exporter": "python",
   "pygments_lexer": "ipython3",
   "version": "3.12.1"
  }
 },
 "nbformat": 4,
 "nbformat_minor": 5
}
