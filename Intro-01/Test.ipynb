{
 "cells": [
  {
   "cell_type": "code",
   "execution_count": 1,
   "id": "82c64cfe-5f7c-4d4d-abc3-5d5a61add043",
   "metadata": {},
   "outputs": [
    {
     "name": "stdout",
     "output_type": "stream",
     "text": [
      "Python 3.12.1\n"
     ]
    }
   ],
   "source": [
    "!python -V"
   ]
  },
  {
   "cell_type": "code",
   "execution_count": 2,
   "id": "4132d7b4-f9cc-4df9-96cb-282e08b6c87d",
   "metadata": {},
   "outputs": [],
   "source": [
    "import numpy as mp"
   ]
  },
  {
   "cell_type": "code",
   "execution_count": 3,
   "id": "9eb13ca9-0653-441e-ad62-c7a446f1f167",
   "metadata": {},
   "outputs": [],
   "source": [
    "u = mp.array([2,7,5,6])"
   ]
  },
  {
   "cell_type": "code",
   "execution_count": 4,
   "id": "c0a63bee-1cae-4124-b3b0-50477364aba5",
   "metadata": {},
   "outputs": [],
   "source": [
    "v = mp.array([4,6,3,9])"
   ]
  },
  {
   "cell_type": "code",
   "execution_count": 5,
   "id": "42c05c7f-6d3d-4370-8020-657f6ba523f4",
   "metadata": {},
   "outputs": [
    {
     "data": {
      "text/plain": [
       "array([ 6, 13,  8, 15])"
      ]
     },
     "execution_count": 5,
     "metadata": {},
     "output_type": "execute_result"
    }
   ],
   "source": [
    "# Addition\n",
    "u + v"
   ]
  },
  {
   "cell_type": "code",
   "execution_count": 6,
   "id": "bd3f09a3-3d00-47f4-9a68-e79208c365f4",
   "metadata": {},
   "outputs": [
    {
     "data": {
      "text/plain": [
       "array([-2,  1,  2, -3])"
      ]
     },
     "execution_count": 6,
     "metadata": {},
     "output_type": "execute_result"
    }
   ],
   "source": [
    "# Substraction\n",
    "u - v"
   ]
  },
  {
   "cell_type": "code",
   "execution_count": 7,
   "id": "0d4eefaa-5ed1-4f77-a523-29a7b0bbe151",
   "metadata": {},
   "outputs": [
    {
     "data": {
      "text/plain": [
       "array([ 8, 28, 20, 24])"
      ]
     },
     "execution_count": 7,
     "metadata": {},
     "output_type": "execute_result"
    }
   ],
   "source": [
    "# Scalar Multiplication\n",
    "4 * u"
   ]
  },
  {
   "cell_type": "code",
   "execution_count": 8,
   "id": "9ed45634-f7e3-4807-a235-82eb6bd67c9e",
   "metadata": {},
   "outputs": [
    {
     "data": {
      "text/plain": [
       "array([ 8, 42, 15, 54])"
      ]
     },
     "execution_count": 8,
     "metadata": {},
     "output_type": "execute_result"
    }
   ],
   "source": [
    "# Vector Multiplication\n",
    "u * v"
   ]
  },
  {
   "cell_type": "code",
   "execution_count": null,
   "id": "1083ad08-12d3-41d8-ae08-174bf9e0f9b2",
   "metadata": {},
   "outputs": [],
   "source": []
  }
 ],
 "metadata": {
  "kernelspec": {
   "display_name": "Python 3 (ipykernel)",
   "language": "python",
   "name": "python3"
  },
  "language_info": {
   "codemirror_mode": {
    "name": "ipython",
    "version": 3
   },
   "file_extension": ".py",
   "mimetype": "text/x-python",
   "name": "python",
   "nbconvert_exporter": "python",
   "pygments_lexer": "ipython3",
   "version": "3.12.1"
  }
 },
 "nbformat": 4,
 "nbformat_minor": 5
}
