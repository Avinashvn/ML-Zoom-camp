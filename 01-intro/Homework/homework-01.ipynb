{
 "cells": [
  {
   "cell_type": "code",
   "execution_count": 1,
   "id": "8863aba9-6991-4858-adc8-6ee4fa09bfc7",
   "metadata": {},
   "outputs": [],
   "source": [
    "# Q1.\n",
    "import pandas as pd\n",
    "import numpy as np\n",
    "\n",
    "url = \"https://raw.githubusercontent.com/alexeygrigorev/datasets/master/car_fuel_efficiency.csv\"\n",
    "\n",
    "df = pd.read_csv(url)"
   ]
  },
  {
   "cell_type": "code",
   "execution_count": 2,
   "id": "471a7b82-1cc3-43c0-ad1a-abed1b0577e3",
   "metadata": {},
   "outputs": [
    {
     "data": {
      "text/plain": [
       "9704"
      ]
     },
     "execution_count": 2,
     "metadata": {},
     "output_type": "execute_result"
    }
   ],
   "source": [
    "# Q2. How many records are in the dataset?\n",
    "df.shape[0]"
   ]
  },
  {
   "cell_type": "code",
   "execution_count": 3,
   "id": "6bdbcd36-e465-4e6a-ac2f-0387f9792906",
   "metadata": {},
   "outputs": [
    {
     "data": {
      "text/plain": [
       "2"
      ]
     },
     "execution_count": 3,
     "metadata": {},
     "output_type": "execute_result"
    }
   ],
   "source": [
    "# Q3. How many fuel types are presented in the dataset?\n",
    "\n",
    "#First find all the columns\n",
    "df.columns\n",
    "\n",
    "# Now find all the unique fuel types\n",
    "df['fuel_type'].unique()\n",
    "\n",
    "# Now find the number of different fuel type\n",
    "df['fuel_type'].nunique()"
   ]
  },
  {
   "cell_type": "code",
   "execution_count": 4,
   "id": "3b40cfc9-1c8a-4179-8df2-eec6d551028c",
   "metadata": {},
   "outputs": [
    {
     "data": {
      "text/plain": [
       "np.int64(4)"
      ]
     },
     "execution_count": 4,
     "metadata": {},
     "output_type": "execute_result"
    }
   ],
   "source": [
    "# Q4. How many columns in the dataset have missing values?\n",
    "\n",
    "# Check for missing values in each column\n",
    "df.isnull().sum()\n",
    "\n",
    "# Filter the columns that have missing values\n",
    "(df.isnull().sum() > 0).sum()"
   ]
  },
  {
   "cell_type": "code",
   "execution_count": 5,
   "id": "6d345e33-307c-4f28-98d7-29f8f52602bd",
   "metadata": {},
   "outputs": [
    {
     "data": {
      "text/plain": [
       "np.float64(14.973830498425272)"
      ]
     },
     "execution_count": 5,
     "metadata": {},
     "output_type": "execute_result"
    }
   ],
   "source": [
    "# Q5. What's the maximum fuel efficiency of cars from Asia?\n",
    "\n",
    "#  find all the unique origin\n",
    "df['origin'].unique()\n",
    "\n",
    "# Filter the dataset for Asian cars\n",
    "asian_cars = df[df['origin'] == 'Asia']\n",
    "\n",
    "# Find their average fuel efficiency\n",
    "asian_cars['fuel_efficiency_mpg'].mean()"
   ]
  },
  {
   "cell_type": "code",
   "execution_count": 9,
   "id": "152cb910-9657-4b77-852b-478357163051",
   "metadata": {},
   "outputs": [
    {
     "data": {
      "text/plain": [
       "np.float64(152.0)"
      ]
     },
     "execution_count": 9,
     "metadata": {},
     "output_type": "execute_result"
    }
   ],
   "source": [
    "# Q6. i) Find the mean value from the hourse power column\n",
    "\n",
    "# identify the column \n",
    "df.columns\n",
    "\n",
    "# Now find the mean value from horsepower\n",
    "df['horsepower'].median()\n",
    "\n",
    "# ii) Find the most frequent value from horsepower column\n",
    "df['horsepower'].mode()\n",
    "\n",
    "# iii) Use the fillna method to fill the missing values in the horsepower column with the most frequent value from the previous step.\n",
    "\n",
    "# Get the most frequent horsepower value\n",
    "most_freq_hp = df['horsepower'].mode()[0]\n",
    "\n",
    "# Now use the .fillna() method\n",
    "df['horsepower'] = df['horsepower'].fillna(most_freq_hp)\n",
    "\n",
    "# Check if there are any missing values left\n",
    "df['horsepower'].isnull().sum()\n",
    "\n",
    "# iv) Now find the mean value from horsepower\n",
    "df['horsepower'].median()"
   ]
  },
  {
   "cell_type": "code",
   "execution_count": 16,
   "id": "756c9386-8918-4ad8-96dd-960d45b651e4",
   "metadata": {},
   "outputs": [
    {
     "data": {
      "text/plain": [
       "np.float64(0.5187709081074016)"
      ]
     },
     "execution_count": 16,
     "metadata": {},
     "output_type": "execute_result"
    }
   ],
   "source": [
    "# Q7 i) Select all the cars from Asia\n",
    "asian_cars = df[df['origin'] == 'Asia']\n",
    "\n",
    "# ii) Select only columns vehicle_weight and model_year\n",
    "asian_weight_year = asian_cars[['vehicle_weight', 'model_year']]\n",
    "\n",
    "# iii) Select the first 7 values\n",
    "asian_7 =  asian_weight_year.head(7)\n",
    "\n",
    "# iv) Get the underlying NumPy array.\n",
    "X = asian_7.to_numpy()\n",
    "\n",
    "# v) Compute matrix-matrix multiplication between the transpose of X and X. To get the transpose, use X.T. Let's call the result XTX\n",
    "\n",
    "# Transpose the array x\n",
    "X.T\n",
    "\n",
    "# Compute XTX\n",
    "XTX = X.T @ X\n",
    "\n",
    "# vi) Invert XTX\n",
    "XTX_inv = np.linalg.inv(XTX)\n",
    "\n",
    "# vii) Create an array y\n",
    "y = np.array([1100, 1300, 800, 900, 1000, 1100, 1200])\n",
    "\n",
    "# viii) Multiply the inverse of XTX with the transpose of X, and then multiply the result by y. Call the result w\n",
    "\n",
    "# Multiply the inverse of XTX with the transpose of X\n",
    "temp = XTX_inv @ X.T\n",
    "\n",
    "# then multiply the result by y. Call the result w\n",
    "w = temp @ y\n",
    "\n",
    "# iX) What's the sum of all the elements of the result?\n",
    "w.sum()"
   ]
  },
  {
   "cell_type": "code",
   "execution_count": null,
   "id": "c448fb90-47b2-4e0a-a7c5-bc6a7e6889b4",
   "metadata": {},
   "outputs": [],
   "source": []
  }
 ],
 "metadata": {
  "kernelspec": {
   "display_name": "Python 3 (ipykernel)",
   "language": "python",
   "name": "python3"
  },
  "language_info": {
   "codemirror_mode": {
    "name": "ipython",
    "version": 3
   },
   "file_extension": ".py",
   "mimetype": "text/x-python",
   "name": "python",
   "nbconvert_exporter": "python",
   "pygments_lexer": "ipython3",
   "version": "3.12.1"
  }
 },
 "nbformat": 4,
 "nbformat_minor": 5
}
